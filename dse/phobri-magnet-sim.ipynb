{
 "cells": [
  {
   "cell_type": "markdown",
   "metadata": {},
   "source": [
    "### Phobri Magnet Simulations\n",
    "\n",
    "code based off of https://colab.research.google.com/drive/1HVRIb3Qq9XZ483U3ilCqhAcSNHraJKJO?usp=sharing#scrollTo=laQSVtL3qm4H"
   ]
  },
  {
   "cell_type": "code",
   "execution_count": null,
   "metadata": {},
   "outputs": [],
   "source": [
    "try:\n",
    "  import google.colab\n",
    "  IN_COLAB=True\n",
    "except:\n",
    "  IN_COLAB=False\n",
    "  pass\n",
    "\n",
    "#if IN_COLAB:\n",
    "!pip install magpylib==4.5.1"
   ]
  },
  {
   "cell_type": "code",
   "execution_count": null,
   "metadata": {},
   "outputs": [],
   "source": [
    "import magpylib as magpy\n",
    "import numpy as np\n",
    "import matplotlib.pyplot as plt\n",
    "from dataclasses import dataclass\n",
    "from types import *\n",
    "\n",
    "from magpylib.magnet import Cylinder, CylinderSegment"
   ]
  },
  {
   "cell_type": "code",
   "execution_count": null,
   "metadata": {},
   "outputs": [],
   "source": [
    "# GLOBAL CONSTANTS\n",
    "DIST_PCB_TO_STICK_AXLE = 7 # mm\n",
    "STICKBOX_LENGTH = 15 # mm\n",
    "DIST_PCB_SENSOR = 0.65 # mm\n",
    "STICK_FULL_TILT = 30 # deg\n",
    "ROT_STEPS = 40\n",
    "ADC_CONV = 684.2 # (ADC LSB)/mT"
   ]
  },
  {
   "cell_type": "code",
   "execution_count": null,
   "metadata": {},
   "outputs": [],
   "source": [
    "def sim_magnetic_flux(magnet, sensor_pos, show_animation=False):\n",
    "  magnet_x = magnet(True)\n",
    "  magnet_y = magnet(False)\n",
    "\n",
    "  magnet_x.position = (0,0,DIST_PCB_TO_STICK_AXLE)\n",
    "  magnet_y.position = (STICKBOX_LENGTH/2,STICKBOX_LENGTH/2,DIST_PCB_TO_STICK_AXLE)\n",
    "\n",
    "  sensor = magpy.Sensor(position=(sensor_pos[0], sensor_pos[1], DIST_PCB_SENSOR))\n",
    "\n",
    "  # snippet for potentially testing stick press\n",
    "  #disp_x = [np.zeros(animation_steps*animation_steps), np.zeros(animation_steps*animation_steps), np.sin(np.linspace(0, -100, animation_steps*animation_steps))]\n",
    "  # turn disp_x into an array of 3-tuples\n",
    "  #disp_x = np.array(disp_x).T\n",
    "\n",
    "  \n",
    "  stick_angles = np.linspace(+STICK_FULL_TILT, -STICK_FULL_TILT, ROT_STEPS)\n",
    "  magnet_x.rotate_from_angax(stick_angles, \"y\",\n",
    "                           anchor=(0,0,DIST_PCB_TO_STICK_AXLE), start=0)\n",
    "  magnet_y.rotate_from_angax(stick_angles, \"x\",\n",
    "                           anchor=(STICKBOX_LENGTH/2, STICKBOX_LENGTH/2, DIST_PCB_TO_STICK_AXLE), start=0)\n",
    "  \n",
    "  if show_animation:\n",
    "    magpy.show(sensor, magnet_x, magnet_y, backend=\"plotly\", animation=True)\n",
    "\n",
    "  Bmx = sensor.getB(magnet_x) * ADC_CONV\n",
    "  Bmy = sensor.getB(magnet_y) * ADC_CONV\n",
    "  \n",
    "  return (Bmx, Bmy)"
   ]
  },
  {
   "cell_type": "code",
   "execution_count": null,
   "metadata": {},
   "outputs": [],
   "source": [
    "def scatter_plot_from_b(Bs):  \n",
    "    Bmx = np.repeat(Bs[0], ROT_STEPS, axis=0)\n",
    "    Bmy = np.tile(Bs[1],(ROT_STEPS,1))\n",
    "    Bsum = Bmx + Bmy\n",
    "    fig = plt.figure()\n",
    "    ax = fig.add_subplot(projection='3d')\n",
    "    ax.set_xlabel(\"Bx\")\n",
    "    ax.set_ylabel(\"By\")\n",
    "    ax.set_zlabel(\"Bz\")\n",
    "    ax.scatter(Bsum[:,0], Bsum[:,1], Bsum[:,2], color=\"red\")\n",
    "    fig.show()\n",
    "\n",
    "def derivative_test(Bs):\n",
    "    # show the derivative of each axis of B\n",
    "    fig, axs = plt.subplots(2,3, width_ratios=[2.0,2.0,2.0], sharey=False, sharex=True)\n",
    "\n",
    "    xdata = np.linspace(+STICK_FULL_TILT, -STICK_FULL_TILT, ROT_STEPS-1)\n",
    "    Bmx_diff = np.diff(Bs[0], axis=0)\n",
    "    Bmy_diff = np.diff(Bs[1], axis=0)\n",
    "    for magnet in range(2):\n",
    "        for axis in range(3):\n",
    "            B_diff = [Bmx_diff,Bmy_diff][magnet]\n",
    "            axs[magnet][axis].set_title(\"dB{}/dθ M={}\".format([\"x\",\"y\",\"z\"][axis], [\"x\",\"y\"][magnet]))\n",
    "            axs[magnet][axis].plot(xdata, B_diff[:,axis])\n",
    "    fig.tight_layout()\n",
    "    fig.show()"
   ]
  },
  {
   "cell_type": "code",
   "execution_count": null,
   "metadata": {},
   "outputs": [],
   "source": [
    "DH1H1_HEIGHT_DIAM = 1/10 * 25.4\n",
    "def MAG_CYLINDER(axis_x):\n",
    "    mag = Cylinder(magnetization=(0, 0, 1300), dimension=(DH1H1_HEIGHT_DIAM, DH1H1_HEIGHT_DIAM))\n",
    "    if axis_x:\n",
    "        mag.rotate_from_euler(90*3, \"y\")\n",
    "    else:\n",
    "        mag.rotate_from_euler(90, \"x\")\n",
    "    print(type(mag))\n",
    "    return mag\n",
    "        \n",
    "def MAG_RING(axis_x):\n",
    "    mag = CylinderSegment(magnetization=(1300,1300,0), dimension=(5/2,10/2,2,0,360))\n",
    "    if axis_x:\n",
    "        mag.rotate_from_euler([90,90], \"yz\")\n",
    "    else:\n",
    "        mag.rotate_from_euler([90,90], \"xz\")\n",
    "        mag.rotate_from_euler(90, \"x\")\n",
    "    return mag"
   ]
  },
  {
   "cell_type": "code",
   "execution_count": null,
   "metadata": {},
   "outputs": [],
   "source": [
    "# more constants, various things to test/tweak\n",
    "SENSOR_MISALIGNMENT_X = 0 \n",
    "SENSOR_MISALIGNMENT_Y = 0.5"
   ]
  },
  {
   "cell_type": "code",
   "execution_count": null,
   "metadata": {},
   "outputs": [],
   "source": [
    "# Cylinder magnet test, sensor per magnet\n",
    "Bs= sim_magnetic_flux(MAG_CYLINDER, (SENSOR_MISALIGNMENT_X,SENSOR_MISALIGNMENT_Y), True)\n",
    "%matplotlib inline\n",
    "scatter_plot_from_b(Bs)\n",
    "derivative_test(Bs)"
   ]
  },
  {
   "cell_type": "code",
   "execution_count": null,
   "metadata": {},
   "outputs": [],
   "source": [
    "# Cylinder if it was not misaligned\n",
    "Bs= sim_magnetic_flux(MAG_CYLINDER, (0,0), True)\n",
    "%matplotlib inline\n",
    "scatter_plot_from_b(Bs)\n",
    "derivative_test(Bs)"
   ]
  },
  {
   "cell_type": "code",
   "execution_count": null,
   "metadata": {},
   "outputs": [],
   "source": [
    "# sensor shared between 2\n",
    "Bs = sim_magnetic_flux(MAG_CYLINDER, (STICKBOX_LENGTH/2 + SENSOR_MISALIGNMENT_X, SENSOR_MISALIGNMENT_Y))\n",
    "\n",
    "scatter_plot_from_b(Bs)\n",
    "derivative_test(Bs)"
   ]
  },
  {
   "cell_type": "code",
   "execution_count": null,
   "metadata": {},
   "outputs": [],
   "source": [
    "# ring magnet, sensor still shared\n",
    "Bs = sim_magnetic_flux(MAG_RING, (STICKBOX_LENGTH/2 + SENSOR_MISALIGNMENT_X, SENSOR_MISALIGNMENT_Y), True)\n",
    "\n",
    "scatter_plot_from_b(Bs)\n",
    "derivative_test(Bs)"
   ]
  }
 ],
 "metadata": {
  "kernelspec": {
   "display_name": ".venv",
   "language": "python",
   "name": "python3"
  },
  "language_info": {
   "codemirror_mode": {
    "name": "ipython",
    "version": 3
   },
   "file_extension": ".py",
   "mimetype": "text/x-python",
   "name": "python",
   "nbconvert_exporter": "python",
   "pygments_lexer": "ipython3",
   "version": "3.12.2"
  }
 },
 "nbformat": 4,
 "nbformat_minor": 2
}
